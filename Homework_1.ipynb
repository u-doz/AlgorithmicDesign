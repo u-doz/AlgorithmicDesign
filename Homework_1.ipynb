{
 "cells": [
  {
   "cell_type": "markdown",
   "metadata": {},
   "source": [
    "# Homework 1 \n",
    "## Romina Doz\n",
    "### Algorithmic Design - 25/03/2021"
   ]
  },
  {
   "cell_type": "markdown",
   "metadata": {},
   "source": [
    "First of all, we can import the matrix template class and the gauss algorithm (naive implementation of the matrix product)"
   ]
  },
  {
   "cell_type": "code",
   "execution_count": 1,
   "metadata": {},
   "outputs": [],
   "source": [
    "from matrix import gauss_matrix_mult, Matrix, get_matrix_quadrants"
   ]
  },
  {
   "cell_type": "markdown",
   "metadata": {},
   "source": [
    "1) Implement the strassen matrix mult function to multiply two $2^n × 2^n$ matrices by using the Strassen’s algorithm"
   ]
  },
  {
   "cell_type": "code",
   "execution_count": 2,
   "metadata": {},
   "outputs": [],
   "source": [
    "def strassen_matrix_mult(A: Matrix, B: Matrix) -> Matrix:\n",
    "\n",
    "    if (A.num_of_cols != B.num_of_rows):\n",
    "        raise ValueError('The number of columns of `A` is different from the number of rows of `B` ')\n",
    "   \n",
    "    #Base case\n",
    "    if max(A.num_of_rows, B.num_of_cols, A.num_of_cols) < 32:\n",
    "        return gauss_matrix_mult(A, B)\n",
    "    \n",
    "    #Recursive step\n",
    "    A11, A12, A21, A22 = get_matrix_quadrants(A)\n",
    "    B11, B12, B21, B22 = get_matrix_quadrants(B)\n",
    "\n",
    "    #First batch of sums (Theta(n^2))\n",
    "    S1 = B12 - B22\n",
    "    S2 = A11 + A12\n",
    "    S3 = A21 + A22\n",
    "    S4 = B21 - B11\n",
    "    S5 = A11 + A22\n",
    "    S6 = B11 + B22\n",
    "    S7 = A12 - A22\n",
    "    S8 = B21 + B22\n",
    "    S9 = A11 - A21\n",
    "    S10 = B11 + B12\n",
    "\n",
    "    #Recursive calls\n",
    "    P1 = strassen_matrix_mult(A11, S1)\n",
    "    P2 = strassen_matrix_mult(S2,B22)\n",
    "    P3 = strassen_matrix_mult(S3, B11)\n",
    "    P4 = strassen_matrix_mult(A22,S4)\n",
    "    P5 = strassen_matrix_mult(S5, S6)\n",
    "    P6 = strassen_matrix_mult(S7, S8)\n",
    "    P7 = strassen_matrix_mult(S9, S10)\n",
    "\n",
    "    #Second batch of sums Theta(n^2)\n",
    "    C11 = P5 + P4 - P2 + P6\n",
    "    C12 = P1 + P2\n",
    "    C21 = P3 + P4\n",
    "    C22 = P5 + P1 -P3 - P7\n",
    "\n",
    "    #Building the result matrix\n",
    "    result = Matrix([[0 for x in range(B.num_of_cols)] for y in range (A.num_of_rows)], clone_matrix= False)\n",
    "\n",
    "    #Copying Cij into the resulting matrix\n",
    "    result.assign_submatrix(0,0, C11)\n",
    "    result.assign_submatrix(0,result.num_of_cols//2, C12)\n",
    "    result.assign_submatrix(result.num_of_rows//2,0, C21)\n",
    "    result.assign_submatrix(result.num_of_rows//2,result.num_of_cols//2, C22)\n",
    "\n",
    "    return result"
   ]
  },
  {
   "cell_type": "markdown",
   "metadata": {},
   "source": [
    "2) Generalize strassen matrix mult to deal with any kind of matrix pair that can be multiplied (possibly also non-square    matrices) and prove that the asymptotic complexity does not change"
   ]
  },
  {
   "cell_type": "code",
   "execution_count": 3,
   "metadata": {},
   "outputs": [],
   "source": [
    "def general_strassen_matrix_mult(A: Matrix, B: Matrix) -> Matrix:\n",
    "    import math\n",
    "\n",
    "    #Check compatibility of the matrices\n",
    "    if (A.num_of_cols != B.num_of_rows):\n",
    "        raise ValueError('The number of columns of `A` is different from the number of rows of `B` ')\n",
    "    \n",
    "    #Fill the rows and columns with zeros to obtain matrices with size of power of two\n",
    "    nextPower2 = lambda n: 2 ** int(math.ceil(math.log(n, 2)))\n",
    "    n = max(A.num_of_rows, A.num_of_cols, B.num_of_cols)\n",
    "    m = nextPower2(n)\n",
    "    \n",
    "    APower2 = Matrix([[0 for i in range(m)] for j in range(m)])\n",
    "    BPower2 = Matrix([[0 for i in range(m)] for j in range(m)])\n",
    "    for i in range(A.num_of_rows):\n",
    "        for j in range(A.num_of_cols):\n",
    "            APower2[i][j] = A[i][j]\n",
    "\n",
    "    for i in range(B.num_of_rows):\n",
    "        for j in range(B.num_of_cols):\n",
    "            BPower2[i][j] = B[i][j]\n",
    "    \n",
    "    #Obtain the result of the multiplication as a matrix with size of power of two\n",
    "    CPower2 = strassen_matrix_mult(APower2, BPower2)\n",
    "    \n",
    "    #Remove the zeros \n",
    "    C = [[0 for i in range(B.num_of_cols)] for j in range(A.num_of_rows)]\n",
    "    for i in range(A.num_of_rows):\n",
    "        for j in range(B.num_of_cols):\n",
    "            C[i][j] = CPower2[i][j]\n",
    "            \n",
    "    return C"
   ]
  },
  {
   "cell_type": "code",
   "execution_count": 11,
   "metadata": {},
   "outputs": [
    {
     "name": "stdout",
     "output_type": "stream",
     "text": [
      "[[9, 12, 15], [19, 26, 33]]\n"
     ]
    }
   ],
   "source": [
    "A = Matrix([[1,2], [3,4]])\n",
    "B = Matrix([[1,2, 3], [4, 5, 6]])\n",
    "\n",
    "C = general_strassen_matrix_mult(A,B)\n",
    "print(C)"
   ]
  },
  {
   "cell_type": "markdown",
   "metadata": {},
   "source": [
    "We can see that performing this generalization does not affect the asymptotic complexity:\n",
    "in fact we are increasing the size of the matrices\n"
   ]
  },
  {
   "cell_type": "markdown",
   "metadata": {},
   "source": [
    "$$ n \\rightarrow 2^{(log_{2}{n} + c)} = n * 2^{c} $$"
   ]
  },
  {
   "cell_type": "markdown",
   "metadata": {},
   "source": [
    "where $0 \\leq c < 1$ and $n$ is the initial size.\n",
    "So the asymptotic complexity becomes:"
   ]
  },
  {
   "cell_type": "markdown",
   "metadata": {},
   "source": [
    "$$\\theta(n^{log_{2} 7}) \\rightarrow \\theta((n * 2^{c})^{log_{2}7}) = \\theta(n^{log_{2} 7}) $$"
   ]
  },
  {
   "cell_type": "markdown",
   "metadata": {},
   "source": [
    "3) Improve the implementation of the function by reducing the number of\n",
    "auxiliary matrices and test the effects on the execution time"
   ]
  },
  {
   "cell_type": "code",
   "execution_count": 9,
   "metadata": {},
   "outputs": [],
   "source": [
    "def strassen_matrix_mult_less(A: Matrix, B: Matrix) -> Matrix:\n",
    "\n",
    "    if (A.num_of_cols != B.num_of_rows):\n",
    "        raise ValueError('The number of columns of `A` is different from the number of rows of `B` ')\n",
    "   \n",
    "    #Base case\n",
    "    if max(A.num_of_rows, B.num_of_cols, A.num_of_cols) < 32:\n",
    "        return gauss_matrix_mult(A, B)\n",
    "    \n",
    "    #Recursive step\n",
    "    A11, A12, A21, A22 = get_matrix_quadrants(A)\n",
    "    B11, B12, B21, B22 = get_matrix_quadrants(B)\n",
    "\n",
    "    #Recursive calls\n",
    "    P1 = strassen_matrix_mult(A11, B12 - B22)\n",
    "    P2 = strassen_matrix_mult(A11 + A12,B22)\n",
    "    P3 = strassen_matrix_mult(A21 + A22, B11)\n",
    "    P4 = strassen_matrix_mult(A22,B21 - B11)\n",
    "    P5 = strassen_matrix_mult(A11 + A22, B11 + B22)\n",
    "\n",
    "    #Building the result matrix\n",
    "    result = Matrix([[0 for x in range(B.num_of_cols)] for y in range (A.num_of_rows)], clone_matrix= False)\n",
    "\n",
    "    #Copying Cij into the resulting matrix\n",
    "    result.assign_submatrix(0,0, P5 + P4 - P2 + strassen_matrix_mult(A12 - A22, B21 + B22))\n",
    "    result.assign_submatrix(0,result.num_of_cols//2, P1 + P2)\n",
    "    result.assign_submatrix(result.num_of_rows//2,0,  P3 + P4)\n",
    "    result.assign_submatrix(result.num_of_rows//2,result.num_of_cols//2, P5 + P1 -P3 - strassen_matrix_mult(A11 - A21, B11 + B12))\n",
    "\n",
    "    return result"
   ]
  },
  {
   "cell_type": "markdown",
   "metadata": {},
   "source": [
    "We can check that the execution time decreases a bit with this last implementation of the Strassen algorithm."
   ]
  },
  {
   "cell_type": "code",
   "execution_count": 17,
   "metadata": {},
   "outputs": [
    {
     "name": "stdout",
     "output_type": "stream",
     "text": [
      "32\t0.015\t0.015\n",
      "64\t0.093\t0.076\n",
      "128\t0.523\t0.502\n",
      "256\t3.568\t3.514\n"
     ]
    },
    {
     "data": {
      "image/png": "[encoded data removed]",
      "text/plain": [
       "<Figure size 432x288 with 1 Axes>"
      ]
     },
     "metadata": {
      "needs_background": "light"
     },
     "output_type": "display_data"
    }
   ],
   "source": [
    "    from random import random, seed\n",
    "    from sys import stdout\n",
    "    from timeit import timeit\n",
    "    import matplotlib.pyplot as plt\n",
    "    \n",
    "    time1 = []\n",
    "    time2 = []\n",
    "    seed(0)\n",
    "    for i in range(5, 9):\n",
    "        size = 2**i\n",
    "        stdout.write(f'{size}')\n",
    "        A = Matrix([[random() for x in range(size)] for y in range (size)])\n",
    "        B = Matrix([[random() for x in range(size)] for y in range (size)])\n",
    "        #print(strassen_matrix_mult(A,B) - strassen_matrix_mult_less_matr(A,B))\n",
    "        \n",
    "        for funct in ['strassen_matrix_mult', 'strassen_matrix_mult_less']:\n",
    "            T = timeit(f'{funct}(A,B)', globals=locals(), number=1)        #timeit takes a string in input with the command to be executed\n",
    "            if funct == 'strassen_matrix_mult':\n",
    "                time1.append(T)\n",
    "            else:\n",
    "                time2.append(T)\n",
    "                \n",
    "            stdout.write('\\t{:.3f}'.format(T))\n",
    "            stdout.flush()\n",
    "        stdout.write('\\n')\n",
    "\n",
    "    plt.plot(time1, label = 'Strassen')\n",
    "    plt.plot(time2, label = 'Improved Strassen')\n",
    "    plt.legend()\n",
    "\n",
    "    plt.show()"
   ]
  },
  {
   "cell_type": "markdown",
   "metadata": {},
   "source": [
    "4) Answer to the following question: how much is the minimum auxiliary\n",
    "space required to evaluate the Strassen’s algorithm? Motivate the answer."
   ]
  },
  {
   "cell_type": "markdown",
   "metadata": {},
   "source": [
    "To compute the Strassen algorithm we need to start allocating $3n^2$ space of memory ( $2n^2$ for the two input matrices $(A,B)$ and $1n^2$ for the output matrix $(C)$ ).\n",
    "Then we need to execute seven recursive calls in which we need to store 3 more matrices (2 in input, 1 in output) of half of the size. For each recursion step, in order to minimize the auxiliary space, we can think about reusing the same space for the recursive calls. For exampe, when the first call is over, we can add the result to the first and second quadrants of the resulting matrix and then use the memory space to perform the second recursive call. And so on.\n",
    "\n",
    "In this way, at each recursion step, we are using the following amount of memory:\n",
    "$$W(n) = 3n^2 + 3({n \\over 2})^2$$\n",
    "\n",
    "So, for the entire algorithm, we have\n",
    "$$W(n) = 3n^2 + W({n \\over 2})$$\n",
    "\n",
    "We can solve this recurrence:\n",
    "\n",
    "$W(n) = 3n^2 + W({n \\over 2}) = 3n^2 + {3 \\over 4} n^2 + {3 \\over 4^2} n^2 + W({n \\over 8})$ \n",
    "\n",
    "$W(n) = 3n^2 * ({1 \\over 4} + {1 \\over 4^2} + ...) \\leq 3n^2 ({{1} \\over {1 - {1 \\over 4}} }) $\n",
    "$$ => W(n) \\in O(n^2)$$"
   ]
  }
 ],
 "metadata": {
  "kernelspec": {
   "display_name": "Python 3",
   "language": "python",
   "name": "python3"
  },
  "language_info": {
   "codemirror_mode": {
    "name": "ipython",
    "version": 3
   },
   "file_extension": ".py",
   "mimetype": "text/x-python",
   "name": "python",
   "nbconvert_exporter": "python",
   "pygments_lexer": "ipython3",
   "version": "3.7.0"
  }
 },
 "nbformat": 4,
 "nbformat_minor": 2
}
